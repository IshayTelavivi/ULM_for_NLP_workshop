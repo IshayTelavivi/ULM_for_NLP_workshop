{
 "cells": [
  {
   "cell_type": "markdown",
   "metadata": {},
   "source": [
    "# Universal Language Model and Transfer Learning "
   ]
  },
  {
   "cell_type": "markdown",
   "metadata": {},
   "source": [
    "**General**"
   ]
  },
  {
   "cell_type": "markdown",
   "metadata": {},
   "source": [
    "This notebook describes a process of text preocessing, where the weights of a pre-trained language model is used for another NLP task, document classification task in this case. The idea here is to create our own pre-trained language model, based on our own data, as opposed to the use of shelf products such as ELMo etc.\n",
    "\n",
    "Naturally, a language model (a model that predicts the next word of a sentence), requires a huge data set for training in order for the model to able to \"understand\" the context of the preceding words/sentence. The size of the training set, 750K sentences 10 tokens each, is probably not enough for high accuracy, but for the sake of this exercise it did the work and produces ~40% accuracy.\n",
    "\n",
    "Another point to note is the transfer model. On the classification task, instead of using the transfer model to completely reach the required class, I stopped one step earlier so that the model provides a representation vector per document that can be used for the classification prediction in another model (not necessarily a deep learning one). "
   ]
  },
  {
   "cell_type": "markdown",
   "metadata": {},
   "source": [
    "**Content**"
   ]
  },
  {
   "cell_type": "markdown",
   "metadata": {},
   "source": [
    "**Phase 1** - Build a model that predicts the next word (Language Model)\n",
    "\n",
    "**Phase 2** - Prepare the input for the classification prediction phase (transfer model)\n",
    "\n",
    "**Phase 3** - Transfer model"
   ]
  },
  {
   "cell_type": "markdown",
   "metadata": {},
   "source": [
    "### Imports"
   ]
  },
  {
   "cell_type": "code",
   "execution_count": 1,
   "metadata": {},
   "outputs": [
    {
     "name": "stdout",
     "output_type": "stream",
     "text": [
      "Collecting joblib\n",
      "\u001b[?25l  Downloading https://files.pythonhosted.org/packages/0d/1b/995167f6c66848d4eb7eabc386aebe07a1571b397629b2eac3b7bebdc343/joblib-0.13.0-py2.py3-none-any.whl (276kB)\n",
      "\u001b[K    100% |████████████████████████████████| 276kB 13.2MB/s \n",
      "\u001b[31mmenpo 0.8.1 has requirement matplotlib<2.0,>=1.4, but you'll have matplotlib 2.2.3 which is incompatible.\u001b[0m\n",
      "\u001b[31mmenpo 0.8.1 has requirement pillow<5.0,>=3.0, but you'll have pillow 5.2.0 which is incompatible.\u001b[0m\n",
      "\u001b[31mmenpo 0.8.1 has requirement scipy<1.0,>=0.16, but you'll have scipy 1.1.0 which is incompatible.\u001b[0m\n",
      "\u001b[?25hInstalling collected packages: joblib\n",
      "Successfully installed joblib-0.13.0\n",
      "\u001b[33mYou are using pip version 10.0.1, however version 18.1 is available.\n",
      "You should consider upgrading via the 'pip install --upgrade pip' command.\u001b[0m\n"
     ]
    }
   ],
   "source": [
    "# Enable joblib at Floydhub cloud services\n",
    "!pip install joblib"
   ]
  },
  {
   "cell_type": "code",
   "execution_count": 2,
   "metadata": {},
   "outputs": [
    {
     "name": "stderr",
     "output_type": "stream",
     "text": [
      "Using TensorFlow backend.\n"
     ]
    }
   ],
   "source": [
    "import nltk\n",
    "import os, sys, re, collections, string\n",
    "from operator import itemgetter as at\n",
    "import numpy as np\n",
    "import pandas as pd\n",
    "from matplotlib import pyplot as plt\n",
    "from sklearn.model_selection import train_test_split\n",
    "from sklearn.preprocessing import StandardScaler\n",
    "from sklearn.decomposition import PCA\n",
    "from tqdm import tqdm_notebook as tqdm\n",
    "from ipywidgets import interact\n",
    "#sys.path.append(\"../python\")\n",
    "import data3 as data # I made some modifications and saved it as data2\n",
    "%matplotlib inline\n",
    "from nltk.tokenize import wordpunct_tokenize, word_tokenize, casual_tokenize\n",
    "from keras.utils import to_categorical\n",
    "from keras.models import Model, load_model, Sequential\n",
    "from keras.layers import Embedding\n",
    "from keras.layers import SpatialDropout1D\n",
    "from keras.layers import Convolution1D\n",
    "from keras.layers import Conv1D\n",
    "from keras.layers import GlobalMaxPooling1D, GlobalAveragePooling1D\n",
    "from keras.layers import Dense, Dropout, Activation, Flatten, concatenate\n",
    "from keras.layers import MaxPooling1D, MaxPooling2D\n",
    "from keras.layers import Input\n",
    "from keras.layers import LSTM, Conv1D, Bidirectional, GRU\n",
    "from keras.preprocessing.sequence import pad_sequences\n",
    "from keras import optimizers\n",
    "import joblib"
   ]
  },
  {
   "cell_type": "markdown",
   "metadata": {},
   "source": [
    "# Phase 1 - Build a model that predicts the next word "
   ]
  },
  {
   "cell_type": "markdown",
   "metadata": {},
   "source": [
    "### Get the train and test texts"
   ]
  },
  {
   "cell_type": "markdown",
   "metadata": {},
   "source": [
    "Note that I made some modifications to some of the functions in 'data.py' file, therefore it is called 'data2.py' or 'data3.py' (these are the same).\n",
    "\n",
    "One of the modifications is deliberately leaving the punctuation on, so that it will help the model to understand the context."
   ]
  },
  {
   "cell_type": "code",
   "execution_count": 5,
   "metadata": {},
   "outputs": [
    {
     "name": "stderr",
     "output_type": "stream",
     "text": [
      "100%|██████████| 4427/4427 [00:04<00:00, 1072.51it/s]\n"
     ]
    }
   ],
   "source": [
    "X_train, y_train = data.preprocessed()"
   ]
  },
  {
   "cell_type": "code",
   "execution_count": 6,
   "metadata": {
    "collapsed": true
   },
   "outputs": [],
   "source": [
    "len_train = len(X_train)"
   ]
  },
  {
   "cell_type": "code",
   "execution_count": 7,
   "metadata": {},
   "outputs": [
    {
     "data": {
      "text/plain": [
       "'##### \\n\\nexhibit <NUM>\\n\\nsecond amended and restated \\n\\n\\n\\nof \\n\\nruss berrie and company, inc. \\n\\nas of december <NUM>, <NUM> \\n\\n<NUM>\\\\. meetings of shareholders. \\n\\n<NUM> annual meeting. the annual meeting of shareholders shall be held on the third thursday of april in each year, or as soon thereafter as practicable as determined by the board. the annual meeting shall be held at a place and time determined by the board. \\n\\n<NUM> special meetings. special meetings of the shareholders may be called by resolution of the board or by the chairman of the board or the president and shall be called by the president or secretary upon the written request (stating the purpose or purposes of the meeting) of a majority of the board or of the holders of <NUM>% of the outstanding shares entitled to vote. \\n\\n<NUM> place of meetings. meetings of the shareholders may be held in or outside new jersey at the place and time specified by the board or the officer or shareholders requesting the meeting. \\n\\n<NUM> notice'"
      ]
     },
     "execution_count": 7,
     "metadata": {},
     "output_type": "execute_result"
    }
   ],
   "source": [
    "X_train[0][:1000]"
   ]
  },
  {
   "cell_type": "code",
   "execution_count": 8,
   "metadata": {
    "collapsed": true
   },
   "outputs": [],
   "source": [
    "len_train = len(X_train)"
   ]
  },
  {
   "cell_type": "markdown",
   "metadata": {},
   "source": [
    "preprocesses_test() is a fuction I added to 'data.py'"
   ]
  },
  {
   "cell_type": "code",
   "execution_count": 9,
   "metadata": {},
   "outputs": [
    {
     "name": "stderr",
     "output_type": "stream",
     "text": [
      "100%|██████████| 822/822 [00:00<00:00, 1051.10it/s]\n"
     ]
    }
   ],
   "source": [
    "X_test = data.preprocessed_test() # I added this function to get the processed text of the test data"
   ]
  },
  {
   "cell_type": "code",
   "execution_count": 10,
   "metadata": {},
   "outputs": [
    {
     "data": {
      "text/plain": [
       "'  \\n\\n\\n\\n\\nthis employment agreement (the “agreement”) is made as of january <NUM>, <NUM> by and between cyclacel pharmaceuticals, inc. (the “company”), a delaware corporation, and paul mcbarron (the “executive”).\\n\\nwhereas, company desires to continue to retain the executive’s services as its executive vice president, finance, chief financial officer, chief operating officer and secretary; and \\n\\nwhereas, company and the executive are desirous of agreeing the terms and conditions of the executive’s employment with the company as set forth herein.\\n\\nnow, therefore, in consideration of the foregoing and the mutual covenants and conditions herein contained, the parties hereby agree as follows:\\n\\n<NUM>\\\\. employment. company hereby employs the executive and the executive accepts such employment according to the terms and conditions set forth in this agreement.\\n\\n<NUM>\\\\. term. except for earlier termination as hereinafter provided for, the term of the executive’s employment hereunder shall be for a '"
      ]
     },
     "execution_count": 10,
     "metadata": {},
     "output_type": "execute_result"
    }
   ],
   "source": [
    "X_test[0][:1000]"
   ]
  },
  {
   "cell_type": "markdown",
   "metadata": {},
   "source": [
    "### Tokenizing"
   ]
  },
  {
   "cell_type": "markdown",
   "metadata": {},
   "source": [
    "Using 'casual_tokenize' to maintain puntuztion and <>"
   ]
  },
  {
   "cell_type": "code",
   "execution_count": 11,
   "metadata": {
    "collapsed": true
   },
   "outputs": [],
   "source": [
    "tokenizing = \" \".join(casual_tokenize(X_test[0]))"
   ]
  },
  {
   "cell_type": "code",
   "execution_count": 12,
   "metadata": {},
   "outputs": [
    {
     "data": {
      "text/plain": [
       "'this employment agreement ( the “ agreement ” ) is made as of january <NUM> , <NUM> by and between cyclacel pharmaceuticals , inc . ( the “ company ” ) , a delaware corporation , and paul mcbarron ( the “ executive ” ) . whereas , company desires to continue to retain the executive ’ s services as its executive vice president , finance , chief financial officer , chief operating officer and secretary ; and whereas , company and the executive are desirous of agreeing the terms and conditions of the executive ’ s employment with the company as set forth herein . now , therefore , in consideration of the foregoing and the mutual covenants and conditions herein contained , the parties hereby agree as follows : <NUM> \\\\ . employment . company hereby employs the executive and the executive accepts such employment according to the terms and conditions set forth in this agreement . <NUM> \\\\ . term . except for earlier termination as hereinafter provided for , the term of the executive ’ s employ'"
      ]
     },
     "execution_count": 12,
     "metadata": {},
     "output_type": "execute_result"
    }
   ],
   "source": [
    "tokenizing[:1000]"
   ]
  },
  {
   "cell_type": "code",
   "execution_count": 13,
   "metadata": {},
   "outputs": [
    {
     "data": {
      "application/vnd.jupyter.widget-view+json": {
       "model_id": "057f53a35a2f483c8c2df71d8f6e341e",
       "version_major": 2,
       "version_minor": 0
      },
      "text/plain": [
       "HBox(children=(IntProgress(value=0, max=4427), HTML(value='')))"
      ]
     },
     "metadata": {},
     "output_type": "display_data"
    },
    {
     "name": "stdout",
     "output_type": "stream",
     "text": [
      "\n"
     ]
    },
    {
     "data": {
      "application/vnd.jupyter.widget-view+json": {
       "model_id": "4ff0cb3619944bd79c87ba113ec9d5f2",
       "version_major": 2,
       "version_minor": 0
      },
      "text/plain": [
       "HBox(children=(IntProgress(value=0, max=822), HTML(value='')))"
      ]
     },
     "metadata": {},
     "output_type": "display_data"
    },
    {
     "name": "stdout",
     "output_type": "stream",
     "text": [
      "\n"
     ]
    }
   ],
   "source": [
    "X_train_tok = [\" \".join(casual_tokenize(text)) for text in tqdm(X_train)]\n",
    "X_test_tok = [\" \".join(casual_tokenize(text)) for text in tqdm(X_test)]"
   ]
  },
  {
   "cell_type": "markdown",
   "metadata": {},
   "source": [
    "Adding 'BOS' (beginning of sentense) since the sentenses are being concatenated later, so I need a separation between them."
   ]
  },
  {
   "cell_type": "code",
   "execution_count": 14,
   "metadata": {},
   "outputs": [
    {
     "data": {
      "application/vnd.jupyter.widget-view+json": {
       "model_id": "9361d79ec17a49ee94501d7077bf3fec",
       "version_major": 2,
       "version_minor": 0
      },
      "text/plain": [
       "HBox(children=(IntProgress(value=0, max=4427), HTML(value='')))"
      ]
     },
     "metadata": {},
     "output_type": "display_data"
    },
    {
     "name": "stdout",
     "output_type": "stream",
     "text": [
      "\n"
     ]
    },
    {
     "data": {
      "application/vnd.jupyter.widget-view+json": {
       "model_id": "98478cfae7e34d149aa455e478bfff5f",
       "version_major": 2,
       "version_minor": 0
      },
      "text/plain": [
       "HBox(children=(IntProgress(value=0, max=822), HTML(value='')))"
      ]
     },
     "metadata": {},
     "output_type": "display_data"
    },
    {
     "name": "stdout",
     "output_type": "stream",
     "text": [
      "\n"
     ]
    }
   ],
   "source": [
    "X_train = [\"<BOS> \" + text for text in tqdm(X_train_tok)]\n",
    "X_test = [\"<BOS> \" + text for text in tqdm(X_test_tok)]"
   ]
  },
  {
   "cell_type": "code",
   "execution_count": 15,
   "metadata": {},
   "outputs": [
    {
     "data": {
      "text/plain": [
       "'<BOS> # # # exhibit <NUM> second amended and restated of russ berrie and company , inc . as of december <NUM> , <NUM> <NUM> \\\\ . meetings of shareholders . <NUM> annual meeting . the annual meeting of shareholders shall be held on the third thursday of april in each year , or as soon thereafter as practicable as determined by the board . the annual meeting shall be held at a place and time determined by the board . <NUM> special meetings . special meetings of the shareholders may be called by resolution of the board or by the chairman of the board or the president and shall be called by the president or secretary upon the written request ( stating the purpose or purposes of the meeting ) of a majority of the board or of the holders of <NUM> % of the outstanding shares entitled to vote . <NUM> place of meetings . meetings of the shareholders may be held in or outside new jersey at the place and time specified by the board or the officer or shareholders requesting the meeting . <NUM> noti'"
      ]
     },
     "execution_count": 15,
     "metadata": {},
     "output_type": "execute_result"
    }
   ],
   "source": [
    "X_train[0][:1000]"
   ]
  },
  {
   "cell_type": "markdown",
   "metadata": {},
   "source": [
    "### Create word_index and encoding"
   ]
  },
  {
   "cell_type": "markdown",
   "metadata": {},
   "source": [
    "Methodically, using the tokens on the test set for learning is not a good practice, however the train and test sets for the language model are structured in another way, so that the data is split differently (will be elaborated later), so I allowed it here. However, leaving some part of the documents for validation should have been done."
   ]
  },
  {
   "cell_type": "code",
   "execution_count": 2,
   "metadata": {
    "collapsed": true
   },
   "outputs": [],
   "source": [
    "# # Combining all documents\n",
    "X = X_train + X_test"
   ]
  },
  {
   "cell_type": "code",
   "execution_count": 17,
   "metadata": {},
   "outputs": [
    {
     "data": {
      "application/vnd.jupyter.widget-view+json": {
       "model_id": "bb82030b369749068aacfa6949cef774",
       "version_major": 2,
       "version_minor": 0
      },
      "text/plain": [
       "HBox(children=(IntProgress(value=0, max=5249), HTML(value='')))"
      ]
     },
     "metadata": {},
     "output_type": "display_data"
    },
    {
     "name": "stdout",
     "output_type": "stream",
     "text": [
      "\n",
      "Total word count: 20841737\n"
     ]
    }
   ],
   "source": [
    "# Counting the number of words\n",
    "word_count = collections.Counter()\n",
    "for x in tqdm(X):\n",
    "    word_count += collections.Counter(x.split())\n",
    "total_word_count = sum(word_count.values())\n",
    "word_count_hist = collections.Counter(word_count.values())\n",
    "print (\"Total word count: \"+str(total_word_count))"
   ]
  },
  {
   "cell_type": "markdown",
   "metadata": {},
   "source": [
    "The next cell allows determining the number of words to be used, based on the corpus coverage (how may tokens are covered out of the total) and vocabulary size. "
   ]
  },
  {
   "cell_type": "code",
   "execution_count": 18,
   "metadata": {},
   "outputs": [
    {
     "data": {
      "application/vnd.jupyter.widget-view+json": {
       "model_id": "3a7b49529b1a4ffd82008376ef0be2e9",
       "version_major": 2,
       "version_minor": 0
      },
      "text/plain": [
       "interactive(children=(IntSlider(value=10, description='lb', max=50), IntSlider(value=1800000, description='ub'…"
      ]
     },
     "metadata": {},
     "output_type": "display_data"
    }
   ],
   "source": [
    "@interact(lb = (0,50), ub =(1000,2100000))\n",
    "def vocab_coverage(lb=10,ub=1800000):\n",
    "    lex_2 = [w for w in word_count if ub >= word_count[w] >= lb]\n",
    "    words_covered = sum([wc*n for wc, n in word_count_hist.items() if lb<wc<ub])\n",
    "    corpus_percentage = words_covered/total_word_count\n",
    "    return \"Corpus Coverage: {:.2f}%, lexicon used: {} words.\".format(corpus_percentage*100, len(lex_2))"
   ]
  },
  {
   "cell_type": "markdown",
   "metadata": {},
   "source": [
    "I'll take out words that appear less than three times."
   ]
  },
  {
   "cell_type": "code",
   "execution_count": 19,
   "metadata": {
    "collapsed": true
   },
   "outputs": [],
   "source": [
    "def create_word_index(lb, ub, counter):\n",
    "    \"\"\"\n",
    "    The function creates a word index, where each token is designated with an index. This is used for encoding.\n",
    "    input:\n",
    "    - lb: lower bound, the minimum number that a word appears in the original korpus\n",
    "    - ub: upper bound, the maximum number that a word appears in the original korpus\n",
    "    - counter: a Counter object that contains the frequency of each word \n",
    "    The function returns a dictionary with the words as keys and the index as values \n",
    "    \"\"\"\n",
    "    \n",
    "    lexicon_2 = [w for w in counter if ub >= counter[w] >= lb]\n",
    "    print(\"New lexicon length: {}.\".format(len(lexicon_2)))\n",
    "    word_index = {}\n",
    "    counter = 1\n",
    "    for word in lexicon_2:\n",
    "        word_index[word] = counter\n",
    "        counter += 1\n",
    "    return word_index"
   ]
  },
  {
   "cell_type": "code",
   "execution_count": 20,
   "metadata": {},
   "outputs": [
    {
     "name": "stdout",
     "output_type": "stream",
     "text": [
      "New lexicon length: 19692.\n"
     ]
    }
   ],
   "source": [
    "word_index = create_word_index(3, 18000000, word_count)"
   ]
  },
  {
   "cell_type": "code",
   "execution_count": 21,
   "metadata": {},
   "outputs": [
    {
     "data": {
      "text/plain": [
       "['word_index_19692']"
      ]
     },
     "execution_count": 21,
     "metadata": {},
     "output_type": "execute_result"
    }
   ],
   "source": [
    "joblib.dump(word_index, 'word_index_19692')"
   ]
  },
  {
   "cell_type": "code",
   "execution_count": 22,
   "metadata": {},
   "outputs": [
    {
     "data": {
      "text/plain": [
       "19693"
      ]
     },
     "execution_count": 22,
     "metadata": {},
     "output_type": "execute_result"
    }
   ],
   "source": [
    "# I add +1 to make room for “0” which is “I don’t know” or “unknown”. Naturally the model will encounter unknown words\n",
    "vocab_size = len(word_index)+1\n",
    "vocab_size"
   ]
  },
  {
   "cell_type": "code",
   "execution_count": 23,
   "metadata": {},
   "outputs": [
    {
     "data": {
      "text/plain": [
       "['<BOS>',\n",
       " '#',\n",
       " '#',\n",
       " '#',\n",
       " 'exhibit',\n",
       " '<NUM>',\n",
       " 'second',\n",
       " 'amended',\n",
       " 'and',\n",
       " 'restated']"
      ]
     },
     "execution_count": 23,
     "metadata": {},
     "output_type": "execute_result"
    }
   ],
   "source": [
    "X_tokenized = [text.split() for text in X]\n",
    "X_tokenized[0][:10]"
   ]
  },
  {
   "cell_type": "code",
   "execution_count": 24,
   "metadata": {
    "collapsed": true
   },
   "outputs": [],
   "source": [
    "# Encoding the tokenized sentences into numbers\n",
    "X_encoded = [[word_index[token] if token in word_index else 0 for token in doc] for doc in X_tokenized]"
   ]
  },
  {
   "cell_type": "code",
   "execution_count": 25,
   "metadata": {},
   "outputs": [
    {
     "data": {
      "text/plain": [
       "[1, 2, 2, 2, 3, 4, 915, 2687, 465, 13]"
      ]
     },
     "execution_count": 25,
     "metadata": {},
     "output_type": "execute_result"
    }
   ],
   "source": [
    "X_encoded[77][:10]"
   ]
  },
  {
   "cell_type": "code",
   "execution_count": 26,
   "metadata": {},
   "outputs": [
    {
     "data": {
      "text/plain": [
       "5249"
      ]
     },
     "execution_count": 26,
     "metadata": {},
     "output_type": "execute_result"
    }
   ],
   "source": [
    "len(X_encoded)"
   ]
  },
  {
   "cell_type": "code",
   "execution_count": 47,
   "metadata": {},
   "outputs": [
    {
     "data": {
      "text/plain": [
       "['X_encoded']"
      ]
     },
     "execution_count": 47,
     "metadata": {},
     "output_type": "execute_result"
    }
   ],
   "source": [
    "joblib.dump(X_encoded, 'X_encoded')"
   ]
  },
  {
   "cell_type": "markdown",
   "metadata": {},
   "source": [
    "### Preparing the input for the model"
   ]
  },
  {
   "attachments": {
    "tokens.png": {
     "image/png": "[encoded data removed]"
    }
   },
   "cell_type": "markdown",
   "metadata": {
    "collapsed": true
   },
   "source": [
    "![tokens.png](attachment:tokens.png)"
   ]
  },
  {
   "cell_type": "markdown",
   "metadata": {},
   "source": [
    "Ideally, one can get more data if the chunks are cut in a way that the next chunk is not after 11 tokens but after 1 or two tokens, so that there is an overlap between chunks. This way the data size can be ~20M samples and can produce better performance."
   ]
  },
  {
   "cell_type": "markdown",
   "metadata": {},
   "source": [
    "**Create a fixed-size matrix**"
   ]
  },
  {
   "cell_type": "code",
   "execution_count": 27,
   "metadata": {},
   "outputs": [
    {
     "data": {
      "text/plain": [
       "20841737"
      ]
     },
     "execution_count": 27,
     "metadata": {},
     "output_type": "execute_result"
    }
   ],
   "source": [
    "# Concatenating the documents to a long sequence of tokens\n",
    "X_flat = [item for sublist in X_encoded for item in sublist]\n",
    "len(X_flat)"
   ]
  },
  {
   "cell_type": "code",
   "execution_count": 28,
   "metadata": {
    "collapsed": true
   },
   "outputs": [],
   "source": [
    "# Cutting the long sequence into chunks of 11. Longer chunks provided lower performance\n",
    "CHUNK_SIZE = 11\n",
    "X_flat_array = np.array(X_flat)"
   ]
  },
  {
   "cell_type": "code",
   "execution_count": 29,
   "metadata": {
    "collapsed": true
   },
   "outputs": [],
   "source": [
    "def reshape_to_matrix(encoded_array, chunk_size):\n",
    "    \"\"\"\n",
    "    Takes a flatten array of numbers, rounds it down to allow devision by the chunk_size, and reshaping it to a matrix with \n",
    "    n_rows rows and chunk_size columns.\n",
    "    \"\"\"\n",
    "    # Calculate the number of rows\n",
    "    n_rows = len(encoded_array) // chunk_size\n",
    "    # Calculate the number of elements to truncate\n",
    "    n_truncate = len(encoded_array) - n_rows*chunk_size\n",
    "    truncated = encoded_array[:-n_truncate]\n",
    "    # Reshape the array\n",
    "    new_array = truncated.reshape(n_rows, chunk_size)\n",
    "    return new_array"
   ]
  },
  {
   "cell_type": "code",
   "execution_count": 30,
   "metadata": {},
   "outputs": [
    {
     "data": {
      "text/plain": [
       "(1894703, 11)"
      ]
     },
     "execution_count": 30,
     "metadata": {},
     "output_type": "execute_result"
    }
   ],
   "source": [
    "input_matrix = reshape_to_matrix(X_flat_array, CHUNK_SIZE)\n",
    "input_matrix.shape"
   ]
  },
  {
   "cell_type": "markdown",
   "metadata": {},
   "source": [
    "At this point I have an array with 1894703 rows and 11 columns"
   ]
  },
  {
   "cell_type": "code",
   "execution_count": 31,
   "metadata": {},
   "outputs": [
    {
     "data": {
      "text/plain": [
       "array([[ 1,  2,  2,  2,  3,  4,  5,  6,  7,  8,  9],\n",
       "       [10, 11,  7, 12, 13, 14, 15, 16,  9, 17,  4]])"
      ]
     },
     "execution_count": 31,
     "metadata": {},
     "output_type": "execute_result"
    }
   ],
   "source": [
    "# Taking a look at the fisrt two arrays\n",
    "input_matrix[:2,:]"
   ]
  },
  {
   "cell_type": "code",
   "execution_count": 32,
   "metadata": {
    "collapsed": true
   },
   "outputs": [],
   "source": [
    "# Now Shuffle it\n",
    "np.random.shuffle(input_matrix)"
   ]
  },
  {
   "cell_type": "code",
   "execution_count": 33,
   "metadata": {},
   "outputs": [
    {
     "data": {
      "text/plain": [
       "(757881, 11)"
      ]
     },
     "execution_count": 33,
     "metadata": {},
     "output_type": "execute_result"
    }
   ],
   "source": [
    "# I am reducing the size of the data to get shorter training time and mempry requirement\n",
    "REDUCTION_RATE = 0.4\n",
    "data_size = int(len(input_matrix) * REDUCTION_RATE)\n",
    "reduced_input_matrix = input_matrix[:data_size, :]\n",
    "reduced_input_matrix.shape"
   ]
  },
  {
   "cell_type": "markdown",
   "metadata": {},
   "source": [
    "**Generate X and y arrays and split to train and test sets**"
   ]
  },
  {
   "cell_type": "code",
   "execution_count": 34,
   "metadata": {},
   "outputs": [
    {
     "data": {
      "text/plain": [
       "(757881, 10)"
      ]
     },
     "execution_count": 34,
     "metadata": {},
     "output_type": "execute_result"
    }
   ],
   "source": [
    "X_set = reduced_input_matrix[:,:-1]\n",
    "X_set.shape"
   ]
  },
  {
   "cell_type": "code",
   "execution_count": 35,
   "metadata": {},
   "outputs": [
    {
     "data": {
      "text/plain": [
       "(757881,)"
      ]
     },
     "execution_count": 35,
     "metadata": {},
     "output_type": "execute_result"
    }
   ],
   "source": [
    "y_set = reduced_input_matrix[:,-1]\n",
    "y_set.shape"
   ]
  },
  {
   "cell_type": "code",
   "execution_count": 36,
   "metadata": {
    "collapsed": true
   },
   "outputs": [],
   "source": [
    "X_train_for_model, X_test_for_model, y_train, y_test = train_test_split(X_set, y_set, test_size=0.2, random_state=0)"
   ]
  },
  {
   "cell_type": "code",
   "execution_count": 37,
   "metadata": {
    "collapsed": true
   },
   "outputs": [
    {
     "data": {
      "text/plain": [
       "['y_test_with_weights']"
      ]
     },
     "execution_count": 37,
     "metadata": {},
     "output_type": "execute_result"
    }
   ],
   "source": [
    "joblib.dump(X_train_for_model, 'X_train_with_weights')\n",
    "joblib.dump(y_train, 'y_train_with_weights')\n",
    "joblib.dump(X_test_for_model, 'X_test_woth_weights')\n",
    "joblib.dump(y_test, 'y_test_with_weights')"
   ]
  },
  {
   "cell_type": "code",
   "execution_count": 34,
   "metadata": {
    "collapsed": true
   },
   "outputs": [],
   "source": [
    "# X_train_for_model = joblib.load('X_train_with_weights')\n",
    "# y_train = joblib.load('y_train_with_weights')\n",
    "# X_test_for_model = joblib.load('X_test_woth_weights')\n",
    "# y_test = joblib.load('y_test_with_weights')"
   ]
  },
  {
   "cell_type": "code",
   "execution_count": 38,
   "metadata": {},
   "outputs": [
    {
     "data": {
      "text/plain": [
       "(606304, 19693)"
      ]
     },
     "execution_count": 38,
     "metadata": {},
     "output_type": "execute_result"
    }
   ],
   "source": [
    "# Convert y_train to one-hot\n",
    "y_train_cat = to_categorical(y_train, num_classes=19693)\n",
    "y_train_cat.shape"
   ]
  },
  {
   "cell_type": "code",
   "execution_count": 39,
   "metadata": {},
   "outputs": [
    {
     "data": {
      "text/plain": [
       "(606304, 10)"
      ]
     },
     "execution_count": 39,
     "metadata": {},
     "output_type": "execute_result"
    }
   ],
   "source": [
    "X_train_for_model.shape"
   ]
  },
  {
   "cell_type": "code",
   "execution_count": 40,
   "metadata": {},
   "outputs": [
    {
     "data": {
      "text/plain": [
       "(151577, 19693)"
      ]
     },
     "execution_count": 40,
     "metadata": {},
     "output_type": "execute_result"
    }
   ],
   "source": [
    "# Convery y_test to one-hot\n",
    "y_test_cat = to_categorical(y_test, num_classes=19693)\n",
    "y_test_cat.shape"
   ]
  },
  {
   "cell_type": "code",
   "execution_count": 41,
   "metadata": {},
   "outputs": [
    {
     "data": {
      "text/plain": [
       "(151577, 10)"
      ]
     },
     "execution_count": 41,
     "metadata": {},
     "output_type": "execute_result"
    }
   ],
   "source": [
    "X_test_for_model.shape"
   ]
  },
  {
   "cell_type": "markdown",
   "metadata": {},
   "source": [
    "**Word Embedding**"
   ]
  },
  {
   "cell_type": "markdown",
   "metadata": {},
   "source": [
    "Pre-trained embedding can be used. If used the next cells are available. Also the embedding layer in the model should be modified (also available and commented within the model)"
   ]
  },
  {
   "cell_type": "code",
   "execution_count": 3,
   "metadata": {
    "collapsed": true
   },
   "outputs": [],
   "source": [
    "# with open(r\"/floyd/input/glove_embedding/glove.840B.300d.txt\", \"r\", encoding=\"UTF-8\") as f:\n",
    "#     glove = f.readlines()"
   ]
  },
  {
   "cell_type": "code",
   "execution_count": 4,
   "metadata": {},
   "outputs": [
    {
     "data": {
      "application/vnd.jupyter.widget-view+json": {
       "model_id": "82b1caab37cf4c499650a5742313f312",
       "version_major": 2,
       "version_minor": 0
      },
      "text/plain": [
       "HBox(children=(IntProgress(value=0, max=2196018), HTML(value='')))"
      ]
     },
     "metadata": {},
     "output_type": "display_data"
    },
    {
     "name": "stdout",
     "output_type": "stream",
     "text": [
      "\n"
     ]
    }
   ],
   "source": [
    "\n",
    "# # The file is a text file, where each line begins with a word, and then 300 float numbers separated by scace\n",
    "# # The embedding matrix for the model requires a dictionary\n",
    "# embedding_dict = {}\n",
    "# for line in tqdm(glove):\n",
    "#     split_line = line.split()\n",
    "#     word = split_line[0]\n",
    "#     # Turning the list of numbers to numpy array\n",
    "#     vect = np.array(split_line[1:])\n",
    "#     embedding_dict[word] = vect"
   ]
  },
  {
   "cell_type": "code",
   "execution_count": 5,
   "metadata": {
    "collapsed": true
   },
   "outputs": [],
   "source": [
    "# word_index = joblib.load('word_index_19692')"
   ]
  },
  {
   "cell_type": "code",
   "execution_count": 6,
   "metadata": {},
   "outputs": [
    {
     "data": {
      "application/vnd.jupyter.widget-view+json": {
       "model_id": "38689fe8e9cf47bd84d1277307ba0d36",
       "version_major": 2,
       "version_minor": 0
      },
      "text/plain": [
       "HBox(children=(IntProgress(value=0, max=19692), HTML(value='')))"
      ]
     },
     "metadata": {},
     "output_type": "display_data"
    },
    {
     "name": "stdout",
     "output_type": "stream",
     "text": [
      "\n"
     ]
    }
   ],
   "source": [
    "# # create a weight matrix for words in training docs\n",
    "# embedding_matrix = np.zeros((19693, 300))\n",
    "# for word, i in tqdm(word_index.items()):\n",
    "#     if word in embedding_dict.keys():\n",
    "#         # It turns out that some vectors are over 300 values and other do not contain numbers\n",
    "#         try:\n",
    "#             embedding_vector = embedding_dict[word][:300]\n",
    "#             #print(len(embedding_vector))\n",
    "#             #if embedding_vector is not None: # Only if exits in the pre-trained\n",
    "#             embedding_matrix[i] = embedding_vector\n",
    "#         except ValueError:\n",
    "#             pass"
   ]
  },
  {
   "cell_type": "markdown",
   "metadata": {},
   "source": [
    "## Build Model"
   ]
  },
  {
   "cell_type": "code",
   "execution_count": 42,
   "metadata": {
    "collapsed": true
   },
   "outputs": [],
   "source": [
    "def create_model(vocab, length): #  embedding_matrix\n",
    "    inputs_shape = Input(shape=(length,))\n",
    "    embed = Embedding(input_dim=vocab, output_dim=200,\\\n",
    "                      input_length=length)(inputs_shape) # output_dim=300, weights=[embedding_matrix],trainable=True,\n",
    "    spat_drop = SpatialDropout1D(0.2)(embed)\n",
    "    lstm = Bidirectional(LSTM(150, recurrent_dropout=0.35, return_sequences=True))(spat_drop)\n",
    "    drop = Dropout(0.25)(lstm)\n",
    "    pool = MaxPooling1D(pool_size=3)(drop)\n",
    "    flat = Flatten()(pool)\n",
    "    dense1 = Dense(1500, activation='relu')(flat)\n",
    "    drop1 = Dropout(0.25)(dense1)\n",
    "#     dense2 = Dense(1500, activation='relu')(drop1)\n",
    "#     drop2 = Dropout(0.3)(dense2)\n",
    "    output = Dense(vocab, activation='softmax')(drop1)\n",
    "    model = Model(inputs=inputs_shape, outputs=output)\n",
    "    # Compiling\n",
    "    #epochs = 30\n",
    "    learning_rate = 0.0002\n",
    "    #decay_rate = learning_rate / epochs\n",
    "    adam = optimizers.Adam(lr=learning_rate, decay=0, amsgrad=False)\n",
    "    model.compile(loss='categorical_crossentropy', optimizer=adam, metrics=['accuracy'])\n",
    "    return model"
   ]
  },
  {
   "cell_type": "code",
   "execution_count": 43,
   "metadata": {
    "collapsed": true
   },
   "outputs": [],
   "source": [
    "# Create the model\n",
    "model = create_model(vocab_size, CHUNK_SIZE-1)"
   ]
  },
  {
   "cell_type": "code",
   "execution_count": 44,
   "metadata": {},
   "outputs": [
    {
     "name": "stdout",
     "output_type": "stream",
     "text": [
      "_________________________________________________________________\n",
      "Layer (type)                 Output Shape              Param #   \n",
      "=================================================================\n",
      "input_1 (InputLayer)         (None, 10)                0         \n",
      "_________________________________________________________________\n",
      "embedding_1 (Embedding)      (None, 10, 200)           3938600   \n",
      "_________________________________________________________________\n",
      "spatial_dropout1d_1 (Spatial (None, 10, 200)           0         \n",
      "_________________________________________________________________\n",
      "bidirectional_1 (Bidirection (None, 10, 300)           421200    \n",
      "_________________________________________________________________\n",
      "dropout_1 (Dropout)          (None, 10, 300)           0         \n",
      "_________________________________________________________________\n",
      "max_pooling1d_1 (MaxPooling1 (None, 3, 300)            0         \n",
      "_________________________________________________________________\n",
      "flatten_1 (Flatten)          (None, 900)               0         \n",
      "_________________________________________________________________\n",
      "dense_1 (Dense)              (None, 1500)              1351500   \n",
      "_________________________________________________________________\n",
      "dropout_2 (Dropout)          (None, 1500)              0         \n",
      "_________________________________________________________________\n",
      "dense_2 (Dense)              (None, 19693)             29559193  \n",
      "=================================================================\n",
      "Total params: 35,270,493\n",
      "Trainable params: 35,270,493\n",
      "Non-trainable params: 0\n",
      "_________________________________________________________________\n"
     ]
    }
   ],
   "source": [
    "model.summary()"
   ]
  },
  {
   "cell_type": "code",
   "execution_count": 45,
   "metadata": {
    "collapsed": true
   },
   "outputs": [],
   "source": [
    "BATCH_SIZE = 700\n",
    "EPOCHS = 30"
   ]
  },
  {
   "cell_type": "code",
   "execution_count": 46,
   "metadata": {},
   "outputs": [
    {
     "name": "stdout",
     "output_type": "stream",
     "text": [
      "Train on 606304 samples, validate on 151577 samples\n",
      "Epoch 1/30\n",
      "606304/606304 [==============================] - 298s 491us/step - loss: 5.8685 - acc: 0.0824 - val_loss: 5.3458 - val_acc: 0.1307\n",
      "Epoch 2/30\n",
      "606304/606304 [==============================] - 348s 574us/step - loss: 4.8913 - acc: 0.1828 - val_loss: 4.6094 - val_acc: 0.2178\n",
      "Epoch 3/30\n",
      "606304/606304 [==============================] - 334s 551us/step - loss: 4.4643 - acc: 0.2288 - val_loss: 4.3300 - val_acc: 0.2468\n",
      "Epoch 4/30\n",
      "606304/606304 [==============================] - 362s 598us/step - loss: 4.1989 - acc: 0.2545 - val_loss: 4.1081 - val_acc: 0.2697\n",
      "Epoch 5/30\n",
      "606304/606304 [==============================] - 350s 577us/step - loss: 3.9884 - acc: 0.2750 - val_loss: 3.9512 - val_acc: 0.2897\n",
      "Epoch 6/30\n",
      "606304/606304 [==============================] - 367s 605us/step - loss: 3.8157 - acc: 0.2915 - val_loss: 3.8199 - val_acc: 0.3045\n",
      "Epoch 7/30\n",
      "606304/606304 [==============================] - 376s 620us/step - loss: 3.6664 - acc: 0.3051 - val_loss: 3.7163 - val_acc: 0.3162\n",
      "Epoch 8/30\n",
      "606304/606304 [==============================] - 387s 638us/step - loss: 3.5385 - acc: 0.3169 - val_loss: 3.6379 - val_acc: 0.3241\n",
      "Epoch 9/30\n",
      "606304/606304 [==============================] - 386s 637us/step - loss: 3.4232 - acc: 0.3268 - val_loss: 3.5727 - val_acc: 0.3339\n",
      "Epoch 10/30\n",
      "606304/606304 [==============================] - 387s 639us/step - loss: 3.3184 - acc: 0.3362 - val_loss: 3.5149 - val_acc: 0.3420\n",
      "Epoch 11/30\n",
      "606304/606304 [==============================] - 389s 642us/step - loss: 3.2220 - acc: 0.3450 - val_loss: 3.4769 - val_acc: 0.3470\n",
      "Epoch 12/30\n",
      "606304/606304 [==============================] - 390s 643us/step - loss: 3.1338 - acc: 0.3532 - val_loss: 3.4347 - val_acc: 0.3546\n",
      "Epoch 13/30\n",
      "606304/606304 [==============================] - 385s 635us/step - loss: 3.0501 - acc: 0.3605 - val_loss: 3.4017 - val_acc: 0.3594\n",
      "Epoch 14/30\n",
      "606304/606304 [==============================] - 381s 628us/step - loss: 2.9730 - acc: 0.3686 - val_loss: 3.3720 - val_acc: 0.3643\n",
      "Epoch 15/30\n",
      "606304/606304 [==============================] - 373s 615us/step - loss: 2.9006 - acc: 0.3760 - val_loss: 3.3566 - val_acc: 0.3679\n",
      "Epoch 16/30\n",
      "606304/606304 [==============================] - 382s 630us/step - loss: 2.8337 - acc: 0.3838 - val_loss: 3.3324 - val_acc: 0.3718\n",
      "Epoch 17/30\n",
      "606304/606304 [==============================] - 388s 640us/step - loss: 2.7682 - acc: 0.3920 - val_loss: 3.3192 - val_acc: 0.3762\n",
      "Epoch 18/30\n",
      "606304/606304 [==============================] - 386s 637us/step - loss: 2.7126 - acc: 0.3992 - val_loss: 3.3102 - val_acc: 0.3790\n",
      "Epoch 19/30\n",
      "606304/606304 [==============================] - 388s 639us/step - loss: 2.6582 - acc: 0.4062 - val_loss: 3.2983 - val_acc: 0.3813\n",
      "Epoch 20/30\n",
      "606304/606304 [==============================] - 386s 636us/step - loss: 2.6071 - acc: 0.4130 - val_loss: 3.2951 - val_acc: 0.3837\n",
      "Epoch 21/30\n",
      "606304/606304 [==============================] - 380s 627us/step - loss: 2.5609 - acc: 0.4188 - val_loss: 3.2865 - val_acc: 0.3856\n",
      "Epoch 22/30\n",
      "606304/606304 [==============================] - 388s 639us/step - loss: 2.5171 - acc: 0.4254 - val_loss: 3.2741 - val_acc: 0.3884\n",
      "Epoch 23/30\n",
      "606304/606304 [==============================] - 383s 631us/step - loss: 2.4777 - acc: 0.4307 - val_loss: 3.2737 - val_acc: 0.3902\n",
      "Epoch 24/30\n",
      "606304/606304 [==============================] - 375s 619us/step - loss: 2.4375 - acc: 0.4368 - val_loss: 3.2698 - val_acc: 0.3909\n",
      "Epoch 25/30\n",
      "606304/606304 [==============================] - 385s 635us/step - loss: 2.3996 - acc: 0.4422 - val_loss: 3.2668 - val_acc: 0.3935\n",
      "Epoch 26/30\n",
      "606304/606304 [==============================] - 395s 652us/step - loss: 2.3629 - acc: 0.4471 - val_loss: 3.2666 - val_acc: 0.3955\n",
      "Epoch 27/30\n",
      "606304/606304 [==============================] - 388s 640us/step - loss: 2.3290 - acc: 0.4527 - val_loss: 3.2682 - val_acc: 0.3968\n",
      "Epoch 28/30\n",
      "606304/606304 [==============================] - 386s 637us/step - loss: 2.2995 - acc: 0.4567 - val_loss: 3.2660 - val_acc: 0.3984\n",
      "Epoch 29/30\n",
      "606304/606304 [==============================] - 381s 628us/step - loss: 2.2690 - acc: 0.4619 - val_loss: 3.2648 - val_acc: 0.3998\n",
      "Epoch 30/30\n",
      "606304/606304 [==============================] - 387s 638us/step - loss: 2.2422 - acc: 0.4662 - val_loss: 3.2691 - val_acc: 0.4002\n"
     ]
    }
   ],
   "source": [
    "# Train the model\n",
    "r = model.fit(X_train_for_model, y_train_cat, batch_size=BATCH_SIZE, epochs=EPOCHS, validation_data=(X_test_for_model, y_test_cat), verbose=1)"
   ]
  },
  {
   "cell_type": "code",
   "execution_count": 48,
   "metadata": {},
   "outputs": [
    {
     "data": {
      "image/png": "[encoded data removed]",
      "text/plain": [
       "<Figure size 432x288 with 1 Axes>"
      ]
     },
     "metadata": {},
     "output_type": "display_data"
    },
    {
     "data": {
      "image/png": "[encoded data removed]",
      "text/plain": [
       "<Figure size 432x288 with 1 Axes>"
      ]
     },
     "metadata": {},
     "output_type": "display_data"
    }
   ],
   "source": [
    "# plot some data\n",
    "plt.plot(r.history['loss'], label='loss')\n",
    "plt.plot(r.history['val_loss'], label='val_loss')\n",
    "plt.legend()\n",
    "plt.show()\n",
    "\n",
    "# accuracies\n",
    "plt.plot(r.history['acc'], label='acc')\n",
    "plt.plot(r.history['val_acc'], label='val_acc')\n",
    "plt.legend()\n",
    "plt.show()"
   ]
  },
  {
   "cell_type": "code",
   "execution_count": 50,
   "metadata": {
    "collapsed": true
   },
   "outputs": [],
   "source": [
    "model.save('model_with_weights21')"
   ]
  },
  {
   "cell_type": "code",
   "execution_count": 30,
   "metadata": {
    "collapsed": true
   },
   "outputs": [],
   "source": [
    "# model = load_model('model_with_weights')"
   ]
  },
  {
   "cell_type": "markdown",
   "metadata": {},
   "source": [
    "**Predicition**"
   ]
  },
  {
   "cell_type": "code",
   "execution_count": 28,
   "metadata": {
    "collapsed": true
   },
   "outputs": [],
   "source": [
    "# word_index = joblib.load('word_index_19692')"
   ]
  },
  {
   "cell_type": "code",
   "execution_count": 49,
   "metadata": {
    "collapsed": true
   },
   "outputs": [],
   "source": [
    "# Need the index to get the words back\n",
    "index_to_word = {value:key for key, value in word_index.items()}"
   ]
  },
  {
   "cell_type": "code",
   "execution_count": 64,
   "metadata": {
    "collapsed": true
   },
   "outputs": [],
   "source": [
    "def predict_one_chunk(chunk, label, model, index_to_words):\n",
    "    \"\"\" Function takes a chunks of indices and a label, and returns the original words and the predictions\"\"\"\n",
    "    \n",
    "    # First reshape to mach the correcet input\n",
    "    reshaped = chunk.reshape((1,10))\n",
    "    prediction = model.predict(reshaped)\n",
    "    # Get the most probabalistic prediction\n",
    "    first_pred_idx = prediction.argmax()\n",
    "    first_pred = index_to_words[first_pred_idx]\n",
    "    # Get the next 3 predtictions\n",
    "    next_predictions_idx = prediction.argsort()[0][-4:-1][::-1]\n",
    "    next_preds = [index_to_words[idx] for idx in next_predictions_idx]\n",
    "    sent = [index_to_words[idx] for idx in chunk]\n",
    "    label_word = index_to_words[label]\n",
    "#     print(\"Sentence: \", sent)\n",
    "#     print(\"Label: \", label_word)\n",
    "#     print(\"Prediction: \", first_pred)\n",
    "#     print(\"next_preds\", next_preds)\n",
    "    \n",
    "    return first_pred"
   ]
  },
  {
   "cell_type": "markdown",
   "metadata": {},
   "source": [
    "One can try the model by choosing an index and view the 10-token-sequence and the prediction, as well as the next 3 probable predictions. Just need to uncomment the prints in the predict_one_chunk function. "
   ]
  },
  {
   "cell_type": "code",
   "execution_count": 60,
   "metadata": {},
   "outputs": [
    {
     "name": "stdout",
     "output_type": "stream",
     "text": [
      "Sentence:  ['immediately', 'and', 'fully', 'vested', 'and', 'exercisable', 'in', 'accordance', 'with', 'the']\n",
      "Label:  terms\n",
      "Prediction:  terms\n",
      "next_preds ['following', 'company', 'vesting']\n"
     ]
    },
    {
     "data": {
      "text/plain": [
       "'terms'"
      ]
     },
     "execution_count": 60,
     "metadata": {},
     "output_type": "execute_result"
    }
   ],
   "source": [
    "index = 41\n",
    "predict_one_chunk(X_test_for_model[index], y_test[index], model, index_to_word)"
   ]
  },
  {
   "cell_type": "markdown",
   "metadata": {},
   "source": [
    "**Test**"
   ]
  },
  {
   "cell_type": "code",
   "execution_count": 68,
   "metadata": {},
   "outputs": [
    {
     "data": {
      "application/vnd.jupyter.widget-view+json": {
       "model_id": "8b37b79d87cb4b8287009947d971adcf",
       "version_major": 2,
       "version_minor": 0
      },
      "text/plain": [
       "HBox(children=(IntProgress(value=0, max=1000), HTML(value='')))"
      ]
     },
     "metadata": {},
     "output_type": "display_data"
    },
    {
     "name": "stdout",
     "output_type": "stream",
     "text": [
      "\n",
      "Percent match:  0.394\n"
     ]
    }
   ],
   "source": [
    "# Since X_flat is very long, I can take some samples form it and test them. The only problem is that 10% of the samples are n the \n",
    "# train or validation sets (because the chunk size is 10)\n",
    "n_samples = 1000\n",
    "start = 0\n",
    "counter = 0\n",
    "for i in tqdm(range(start, start + n_samples)):\n",
    "    first_prediction = predict_one_chunk(np.array(X_flat[i:i+10]), X_flat[i+10], model, index_to_word)\n",
    "    label = index_to_word[X_flat[i+10]]\n",
    "    if first_prediction == label:\n",
    "        counter += 1\n",
    "print(\"Percent match: \", counter/n_samples)\n",
    "                                         "
   ]
  },
  {
   "cell_type": "markdown",
   "metadata": {},
   "source": [
    "**Getting the weights** "
   ]
  },
  {
   "cell_type": "code",
   "execution_count": 69,
   "metadata": {
    "collapsed": true
   },
   "outputs": [],
   "source": [
    "model_weights = model.weights"
   ]
  },
  {
   "cell_type": "code",
   "execution_count": 70,
   "metadata": {
    "collapsed": true
   },
   "outputs": [],
   "source": [
    "model.save_weights('GPU.weights')"
   ]
  },
  {
   "cell_type": "code",
   "execution_count": 74,
   "metadata": {},
   "outputs": [
    {
     "data": {
      "text/plain": [
       "[<keras.engine.input_layer.InputLayer at 0x7fdaaf4ec400>,\n",
       " <keras.layers.embeddings.Embedding at 0x7fdaaf4ec6d8>,\n",
       " <keras.layers.core.SpatialDropout1D at 0x7fdb89357908>,\n",
       " <keras.layers.wrappers.Bidirectional at 0x7fdaaf44eb70>,\n",
       " <keras.layers.core.Dropout at 0x7fdaaf1cec18>,\n",
       " <keras.layers.pooling.MaxPooling1D at 0x7fdaaecdfb38>,\n",
       " <keras.layers.core.Flatten at 0x7fdaaf1ceb70>,\n",
       " <keras.layers.core.Dense at 0x7fdaaecf66d8>,\n",
       " <keras.layers.core.Dropout at 0x7fdaaeb68860>,\n",
       " <keras.layers.core.Dense at 0x7fdaaeb685c0>]"
      ]
     },
     "execution_count": 74,
     "metadata": {},
     "output_type": "execute_result"
    }
   ],
   "source": [
    "model.layers"
   ]
  },
  {
   "cell_type": "markdown",
   "metadata": {},
   "source": [
    "- Layer[0] is the Input - is has no weights\n",
    "- Layer[1] is the Embedding\n",
    "- Layer[2] is the SpatialDropout - is has no weights\n",
    "- Layer[3] is the Bidirectional LSTM"
   ]
  },
  {
   "cell_type": "code",
   "execution_count": 71,
   "metadata": {},
   "outputs": [
    {
     "data": {
      "text/plain": [
       "(19693, 200)"
      ]
     },
     "execution_count": 71,
     "metadata": {},
     "output_type": "execute_result"
    }
   ],
   "source": [
    "# Embedding weights\n",
    "model.layers[1].get_weights()[0].shape"
   ]
  },
  {
   "cell_type": "code",
   "execution_count": 96,
   "metadata": {
    "collapsed": true
   },
   "outputs": [],
   "source": [
    "# LSTM weights\n",
    "#model.layers[3].get_weights()"
   ]
  },
  {
   "cell_type": "code",
   "execution_count": 92,
   "metadata": {},
   "outputs": [
    {
     "data": {
      "text/plain": [
       "(900, 1500)"
      ]
     },
     "execution_count": 92,
     "metadata": {},
     "output_type": "execute_result"
    }
   ],
   "source": [
    "# # Dense (1500) layer\n",
    "# model.layers[7].get_weights()"
   ]
  },
  {
   "cell_type": "code",
   "execution_count": 73,
   "metadata": {
    "collapsed": true
   },
   "outputs": [],
   "source": [
    "# Capturing the model weights\n",
    "weights_m1 = model.get_weights()"
   ]
  },
  {
   "cell_type": "code",
   "execution_count": 75,
   "metadata": {
    "collapsed": true
   },
   "outputs": [],
   "source": [
    "# Capturing model layers\n",
    "lstm_layer = model.layers[3]\n",
    "embedding_layer = model.layers[1]\n",
    "dense_layer = model.layers[7]"
   ]
  },
  {
   "cell_type": "code",
   "execution_count": 76,
   "metadata": {},
   "outputs": [
    {
     "data": {
      "text/plain": [
       "<bound method Bidirectional.get_weights of <keras.layers.wrappers.Bidirectional object at 0x7fdaaf44eb70>>"
      ]
     },
     "execution_count": 76,
     "metadata": {},
     "output_type": "execute_result"
    }
   ],
   "source": [
    "lstm_layer.get_weights"
   ]
  },
  {
   "cell_type": "markdown",
   "metadata": {},
   "source": [
    "# Phase 2 - Prepare the input for the classification prediction phase (transfer model)"
   ]
  },
  {
   "cell_type": "markdown",
   "metadata": {},
   "source": [
    "The above model receives input of chunks of 10 tokens at a time, and our documents contain thousands of tokens each, so we need to find a way to transform the document into 10 tokens dimensions as well.\n",
    "\n",
    "The way I am doing it is by auto-embedding to the whole data, with witch I am getting a vectoer of 10 for each word/token in a document (like a word2vec concept), and on the second step averaging all words/tokens in a document to one vector of 10."
   ]
  },
  {
   "cell_type": "markdown",
   "metadata": {},
   "source": [
    "**Examine length of documents to determine input length. I need it for the Embedding layer.**"
   ]
  },
  {
   "cell_type": "code",
   "execution_count": 77,
   "metadata": {
    "collapsed": true
   },
   "outputs": [],
   "source": [
    "docs_len = [len(doc) for doc in X_encoded]"
   ]
  },
  {
   "cell_type": "code",
   "execution_count": 78,
   "metadata": {},
   "outputs": [
    {
     "data": {
      "text/plain": [
       "[3771, 3385, 7091, 7061, 6679, 4728, 4419, 3557, 4847, 2013]"
      ]
     },
     "execution_count": 78,
     "metadata": {},
     "output_type": "execute_result"
    }
   ],
   "source": [
    "docs_len[:10]"
   ]
  },
  {
   "cell_type": "code",
   "execution_count": 79,
   "metadata": {},
   "outputs": [
    {
     "data": {
      "image/png": "[encoded data removed]",
      "text/plain": [
       "<Figure size 1008x360 with 1 Axes>"
      ]
     },
     "metadata": {},
     "output_type": "display_data"
    }
   ],
   "source": [
    "fig = plt.figure(figsize=(14,5))\n",
    "ax = fig.gca()\n",
    "plt.hist(docs_len, bins=50)\n",
    "plt.show()"
   ]
  },
  {
   "cell_type": "markdown",
   "metadata": {},
   "source": [
    "Maximum length will be 5,000"
   ]
  },
  {
   "cell_type": "code",
   "execution_count": 80,
   "metadata": {
    "collapsed": true
   },
   "outputs": [],
   "source": [
    "max_len = 5000"
   ]
  },
  {
   "cell_type": "code",
   "execution_count": 81,
   "metadata": {},
   "outputs": [
    {
     "data": {
      "text/plain": [
       "(5249, 5000)"
      ]
     },
     "execution_count": 81,
     "metadata": {},
     "output_type": "execute_result"
    }
   ],
   "source": [
    "X_pad = pad_sequences(X_encoded, maxlen=max_len)\n",
    "X_pad.shape"
   ]
  },
  {
   "cell_type": "code",
   "execution_count": 82,
   "metadata": {},
   "outputs": [
    {
     "name": "stderr",
     "output_type": "stream",
     "text": [
      "/usr/local/lib/python3.6/site-packages/sklearn/utils/validation.py:475: DataConversionWarning: Data with input dtype int32 was converted to float64 by StandardScaler.\n",
      "  warnings.warn(msg, DataConversionWarning)\n"
     ]
    },
    {
     "data": {
      "text/plain": [
       "array([[-0.22754927, -0.22490599, -0.21028077, ..., -0.4000674 ,\n",
       "        -0.39077817, -0.3001892 ],\n",
       "       [-0.22754927, -0.22490599, -0.21028077, ..., -0.40639885,\n",
       "        -0.39137499, -0.3001892 ],\n",
       "       [ 0.93057391, -0.08839502, -0.11757473, ..., -0.19310791,\n",
       "        -0.04462261, -0.00460124],\n",
       "       ...,\n",
       "       [-0.22754927, -0.22490599, -0.21028077, ..., -0.3458543 ,\n",
       "        -0.34840396, -0.24228272],\n",
       "       [-0.22754927, -0.22490599, -0.21028077, ..., -0.38819592,\n",
       "         0.33913261, -0.3001892 ],\n",
       "       [-0.22754927, -0.22490599, -0.21028077, ..., -0.38819592,\n",
       "        -0.39137499,  1.77384664]])"
      ]
     },
     "execution_count": 82,
     "metadata": {},
     "output_type": "execute_result"
    }
   ],
   "source": [
    "# Scaling the data for the PCA\n",
    "scaler = StandardScaler()\n",
    "X_pad_scaled = scaler.fit_transform(X_pad)\n",
    "X_pad_scaled"
   ]
  },
  {
   "cell_type": "code",
   "execution_count": 83,
   "metadata": {},
   "outputs": [
    {
     "data": {
      "text/plain": [
       "(5249, 10)"
      ]
     },
     "execution_count": 83,
     "metadata": {},
     "output_type": "execute_result"
    }
   ],
   "source": [
    "# Transforming to PCA\n",
    "pca_transformer = PCA(n_components=10).fit(X_pad_scaled)\n",
    "X_pad_pca = pca_transformer.transform(X_pad_scaled)\n",
    "X_pad_pca.shape"
   ]
  },
  {
   "cell_type": "code",
   "execution_count": 84,
   "metadata": {},
   "outputs": [
    {
     "data": {
      "text/plain": [
       "array([[-16.56648169,  -7.76639963,  -6.0240688 ,   1.35825797,\n",
       "          0.24850964,   0.61655433,   0.47957601,   0.32119406,\n",
       "          0.7334496 ,   0.57124989],\n",
       "       [-12.51057352,  -1.64242384,  -4.35541161,   1.74490839,\n",
       "         -0.07030225,   1.28807844,   0.04566294,   0.0588121 ,\n",
       "          0.8347565 ,   0.31043283],\n",
       "       [  2.9800015 ,  -7.39397236,  -2.13130296,   2.03659091,\n",
       "         -0.07689446,   0.0307266 ,   0.77045608,   0.70583449,\n",
       "          0.05159868,   0.45948009]])"
      ]
     },
     "execution_count": 84,
     "metadata": {},
     "output_type": "execute_result"
    }
   ],
   "source": [
    "X_pad_pca[:3]"
   ]
  },
  {
   "cell_type": "code",
   "execution_count": 85,
   "metadata": {
    "collapsed": true
   },
   "outputs": [],
   "source": [
    "X_pca_train = X_pad_pca[:len_train]\n",
    "X_pca_test = X_pad_pca[len_train:]"
   ]
  },
  {
   "cell_type": "code",
   "execution_count": 86,
   "metadata": {},
   "outputs": [
    {
     "data": {
      "text/plain": [
       "['X_pca_train']"
      ]
     },
     "execution_count": 86,
     "metadata": {},
     "output_type": "execute_result"
    }
   ],
   "source": [
    "joblib.dump(X_pca_test, \"X_pca_test\")\n",
    "joblib.dump(X_pca_train, \"X_pca_train\")"
   ]
  },
  {
   "cell_type": "code",
   "execution_count": 24,
   "metadata": {
    "collapsed": true
   },
   "outputs": [],
   "source": [
    "# X_pca_test = joblib.load(\"X_pca_test\")\n",
    "# X_pca_train = joblib.load(\"X_pca_train\")"
   ]
  },
  {
   "cell_type": "code",
   "execution_count": 87,
   "metadata": {
    "collapsed": true
   },
   "outputs": [],
   "source": [
    "# I need these for the prediction of phase 3\n",
    "X_pad_train = X_pad[:len_train]\n",
    "X_pad_test = X_pad[len_train:]"
   ]
  },
  {
   "cell_type": "markdown",
   "metadata": {},
   "source": [
    "# Phase 3 - Transfer Model"
   ]
  },
  {
   "cell_type": "markdown",
   "metadata": {},
   "source": [
    "I used the following link to set the weights to the transfer model: https://github.com/keras-team/keras/issues/8860"
   ]
  },
  {
   "cell_type": "code",
   "execution_count": 88,
   "metadata": {
    "collapsed": true
   },
   "outputs": [],
   "source": [
    "from keras.engine.saving import preprocess_weights_for_loading"
   ]
  },
  {
   "cell_type": "markdown",
   "metadata": {},
   "source": [
    "The model in this part does is not a classification model, but aims to generate a representation for each document, with witch one can classify, not necessary with deep learning."
   ]
  },
  {
   "cell_type": "code",
   "execution_count": 89,
   "metadata": {
    "collapsed": true
   },
   "outputs": [],
   "source": [
    "# Calling the weights of the LSTM and embedding of the language model (the first model)\n",
    "lstm_weights_m2 = preprocess_weights_for_loading(lstm_layer, weights_m1) # target layer, source weights\n",
    "embedding_weights_m2 = preprocess_weights_for_loading(embedding_layer, weights_m1) \n",
    "dense_layer_m2 = preprocess_weights_for_loading(dense_layer, weights_m1) "
   ]
  },
  {
   "cell_type": "code",
   "execution_count": 90,
   "metadata": {
    "collapsed": true
   },
   "outputs": [],
   "source": [
    "transfer_model = Sequential()\n",
    "# On the next line originaly the input_din=vocab_size and input_length=CHUNK_SIZE-1, but I ran only part of the notebook\n",
    "transfer_model.add(Embedding(input_dim=19693, output_dim=200,input_length=10))\n",
    "transfer_model.add(SpatialDropout1D(0.2))\n",
    "transfer_model.add(Bidirectional(LSTM(150, recurrent_dropout=0.35, return_sequences=True)))\n",
    "transfer_model.add(MaxPooling1D(pool_size=3))\n",
    "transfer_model.add(Flatten())\n",
    "transfer_model.add(Dense(1500, activation='relu'))\n",
    "adam = optimizers.Adam(lr=0.0002, decay=0, amsgrad=False)\n",
    "transfer_model.compile(loss='categorical_crossentropy', optimizer=adam, metrics=['accuracy'])\n",
    "# This arethe lines that tell the model to use the weights of the language model into the lstm layer of this model. It must be\n",
    "# after the compile, because the compile resets the weights\n",
    "\n",
    "\n",
    "transfer_model.set_weights(embedding_weights_m2)\n",
    "transfer_model.set_weights(lstm_weights_m2)\n",
    "transfer_model.set_weights(dense_layer_m2)"
   ]
  },
  {
   "cell_type": "code",
   "execution_count": 91,
   "metadata": {},
   "outputs": [
    {
     "name": "stdout",
     "output_type": "stream",
     "text": [
      "_________________________________________________________________\n",
      "Layer (type)                 Output Shape              Param #   \n",
      "=================================================================\n",
      "embedding_2 (Embedding)      (None, 10, 200)           3938600   \n",
      "_________________________________________________________________\n",
      "spatial_dropout1d_2 (Spatial (None, 10, 200)           0         \n",
      "_________________________________________________________________\n",
      "bidirectional_2 (Bidirection (None, 10, 300)           421200    \n",
      "_________________________________________________________________\n",
      "max_pooling1d_2 (MaxPooling1 (None, 3, 300)            0         \n",
      "_________________________________________________________________\n",
      "flatten_2 (Flatten)          (None, 900)               0         \n",
      "_________________________________________________________________\n",
      "dense_3 (Dense)              (None, 1500)              1351500   \n",
      "=================================================================\n",
      "Total params: 5,711,300\n",
      "Trainable params: 5,711,300\n",
      "Non-trainable params: 0\n",
      "_________________________________________________________________\n"
     ]
    }
   ],
   "source": [
    "transfer_model.summary()"
   ]
  },
  {
   "cell_type": "code",
   "execution_count": 93,
   "metadata": {
    "collapsed": true
   },
   "outputs": [],
   "source": [
    "# Can see that the LSTM layer (for example) has the same weights as in the first model. Note that in the forst model the no. of\n",
    "# layer is 3\n",
    "lstm_weights_m2 = transfer_model.layers[2].get_weights()"
   ]
  },
  {
   "cell_type": "code",
   "execution_count": 95,
   "metadata": {
    "collapsed": true
   },
   "outputs": [],
   "source": [
    "# lstm_weights_m2"
   ]
  },
  {
   "cell_type": "markdown",
   "metadata": {},
   "source": [
    "### Predict the test set"
   ]
  },
  {
   "cell_type": "code",
   "execution_count": 97,
   "metadata": {
    "collapsed": true
   },
   "outputs": [],
   "source": [
    "status_value_test = transfer_model.predict(X_pca_test)"
   ]
  },
  {
   "cell_type": "code",
   "execution_count": 98,
   "metadata": {},
   "outputs": [
    {
     "data": {
      "text/plain": [
       "(822, 1500)"
      ]
     },
     "execution_count": 98,
     "metadata": {},
     "output_type": "execute_result"
    }
   ],
   "source": [
    "status_value_test.shape"
   ]
  },
  {
   "cell_type": "code",
   "execution_count": 99,
   "metadata": {},
   "outputs": [
    {
     "data": {
      "text/plain": [
       "(822,)"
      ]
     },
     "execution_count": 99,
     "metadata": {},
     "output_type": "execute_result"
    }
   ],
   "source": [
    "# Now the average is on the 'CHUNK_SIZE-1' dimension, because I want the LSTM vector per document\n",
    "avg_vector_test = np.mean(status_value_test, axis=1)\n",
    "avg_vector_test.shape"
   ]
  },
  {
   "cell_type": "markdown",
   "metadata": {},
   "source": [
    "### Predict the train set"
   ]
  },
  {
   "cell_type": "code",
   "execution_count": 100,
   "metadata": {
    "collapsed": true
   },
   "outputs": [],
   "source": [
    "status_value_train = transfer_model.predict(X_pca_train)"
   ]
  },
  {
   "cell_type": "code",
   "execution_count": 101,
   "metadata": {},
   "outputs": [
    {
     "data": {
      "text/plain": [
       "(4427, 1500)"
      ]
     },
     "execution_count": 101,
     "metadata": {},
     "output_type": "execute_result"
    }
   ],
   "source": [
    "status_value_train.shape"
   ]
  },
  {
   "cell_type": "code",
   "execution_count": 102,
   "metadata": {
    "collapsed": true
   },
   "outputs": [],
   "source": [
    "avg_vector_train = np.mean(status_value_train, axis=1)"
   ]
  },
  {
   "cell_type": "code",
   "execution_count": 103,
   "metadata": {},
   "outputs": [
    {
     "data": {
      "text/plain": [
       "(4427,)"
      ]
     },
     "execution_count": 103,
     "metadata": {},
     "output_type": "execute_result"
    }
   ],
   "source": [
    "avg_vector_train.shape"
   ]
  },
  {
   "cell_type": "code",
   "execution_count": 104,
   "metadata": {
    "collapsed": true
   },
   "outputs": [],
   "source": [
    "# Saving to file \n",
    "np.savetxt(\"status_value_test21.csv\", status_value_test, delimiter=\",\")\n",
    "np.savetxt(\"status_value_train21.csv\", status_value_train, delimiter=\",\")"
   ]
  }
 ],
 "metadata": {
  "kernelspec": {
   "display_name": "Python 3",
   "language": "python",
   "name": "python3"
  },
  "language_info": {
   "codemirror_mode": {
    "name": "ipython",
    "version": 3
   },
   "file_extension": ".py",
   "mimetype": "text/x-python",
   "name": "python",
   "nbconvert_exporter": "python",
   "pygments_lexer": "ipython3",
   "version": "3.6.3"
  }
 },
 "nbformat": 4,
 "nbformat_minor": 2
}
